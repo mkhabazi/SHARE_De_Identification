{
 "cells": [
  {
   "cell_type": "code",
   "execution_count": null,
   "metadata": {},
   "outputs": [
    {
     "name": "stdout",
     "output_type": "stream",
     "text": [
      "{'character_embedding_dimension': 25,\n",
      " 'character_lstm_hidden_state_dimension': 25,\n",
      " 'check_for_digits_replaced_with_zeros': 1,\n",
      " 'check_for_lowercase': 1,\n",
      " 'dataset_text_folder': './neuroner/data/i2b2',\n",
      " 'debug': 0,\n",
      " 'dropout_rate': 0.5,\n",
      " 'experiment_name': 'test',\n",
      " 'freeze_token_embeddings': 0,\n",
      " 'gradient_clipping_value': 5.0,\n",
      " 'learning_rate': 0.005,\n",
      " 'load_all_pretrained_token_embeddings': 0,\n",
      " 'load_only_pretrained_token_embeddings': 0,\n",
      " 'main_evaluation_mode': 'conll',\n",
      " 'maximum_number_of_epochs': 100,\n",
      " 'number_of_cpu_threads': 8,\n",
      " 'number_of_gpus': 0,\n",
      " 'optimizer': 'sgd',\n",
      " 'output_folder': './neuroner/output',\n",
      " 'output_scores': 0,\n",
      " 'parameters_filepath': './parameters.ini',\n",
      " 'patience': 10,\n",
      " 'plot_format': 'pdf',\n",
      " 'pretrained_model_folder': './neuroner/model',\n",
      " 'reload_character_embeddings': 1,\n",
      " 'reload_character_lstm': 1,\n",
      " 'reload_crf': 1,\n",
      " 'reload_feedforward': 1,\n",
      " 'reload_token_embeddings': 1,\n",
      " 'reload_token_lstm': 1,\n",
      " 'remap_unknown_tokens_to_unk': 1,\n",
      " 'spacylanguage': 'en',\n",
      " 'tagging_format': 'bioes',\n",
      " 'token_embedding_dimension': 100,\n",
      " 'token_lstm_hidden_state_dimension': 100,\n",
      " 'token_pretrained_embedding_filepath': './neuroner/data/word_vectors/glove.6B.100d.txt',\n",
      " 'tokenizer': 'spacy',\n",
      " 'train_model': 0,\n",
      " 'use_character_lstm': 1,\n",
      " 'use_crf': 1,\n",
      " 'use_pretrained_model': 1,\n",
      " 'verbose': 0}\n",
      "Checking compatibility between CONLL and BRAT for train_spacy set ... Done.\n",
      "Checking validity of CONLL BIOES format... Done.\n",
      "Checking compatibility between CONLL and BRAT for valid_spacy set ... Done.\n",
      "Checking validity of CONLL BIOES format... Done.\n",
      "Checking compatibility between CONLL and BRAT for test_spacy set ... Done.\n",
      "Checking validity of CONLL BIOES format... Done.\n",
      "WARNING: train and valid set exist in the specified dataset folder, \n",
      "                but train_model is set to FALSE: ./neuroner/data/i2b2\n",
      "Load dataset... "
     ]
    }
   ],
   "source": [
    "from neuroner import neuromodel\n",
    "nn = neuromodel.NeuroNER()"
   ]
  },
  {
   "cell_type": "code",
   "execution_count": null,
   "metadata": {},
   "outputs": [],
   "source": [
    "input_sentence = ''"
   ]
  },
  {
   "cell_type": "code",
   "execution_count": null,
   "metadata": {},
   "outputs": [],
   "source": [
    "tags = nn.predict(input_sentence)"
   ]
  }
 ],
 "metadata": {
  "kernelspec": {
   "display_name": "Python 3",
   "language": "python",
   "name": "python3"
  },
  "language_info": {
   "codemirror_mode": {
    "name": "ipython",
    "version": 3
   },
   "file_extension": ".py",
   "mimetype": "text/x-python",
   "name": "python",
   "nbconvert_exporter": "python",
   "pygments_lexer": "ipython3",
   "version": "3.7.7"
  }
 },
 "nbformat": 4,
 "nbformat_minor": 4
}
